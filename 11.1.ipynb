{
 "cells": [
  {
   "cell_type": "code",
   "execution_count": 1,
   "metadata": {},
   "outputs": [],
   "source": [
    "%matplotlib inline\n",
    "import pandas as pd\n",
    "import numpy as np\n",
    "import matplotlib.pyplot as plt\n",
    "import seaborn as sns\n",
    "from scipy.optimize import curve_fit"
   ]
  },
  {
   "cell_type": "code",
   "execution_count": 2,
   "metadata": {},
   "outputs": [],
   "source": [
    "def chi_sq(x, y, err):\n",
    "    function = lambda x, a, b: a * x + b\n",
    "    popt, pcov = curve_fit(function, xdata=x, ydata=y, sigma=err)\n",
    "\n",
    "    sigma_a = np.sqrt(pcov[0, 0])\n",
    "    sigma_b = np.sqrt(pcov[1, 1])\n",
    "\n",
    "    return popt[0], popt[1], sigma_a, sigma_b"
   ]
  },
  {
   "cell_type": "code",
   "execution_count": 3,
   "metadata": {},
   "outputs": [],
   "source": [
    "sns.set_theme()"
   ]
  },
  {
   "cell_type": "code",
   "execution_count": 4,
   "metadata": {},
   "outputs": [],
   "source": [
    "df = pd.read_excel('11_1.xlsx')"
   ]
  },
  {
   "cell_type": "code",
   "execution_count": 5,
   "metadata": {},
   "outputs": [
    {
     "data": {
      "text/html": [
       "<div>\n",
       "<style scoped>\n",
       "    .dataframe tbody tr th:only-of-type {\n",
       "        vertical-align: middle;\n",
       "    }\n",
       "\n",
       "    .dataframe tbody tr th {\n",
       "        vertical-align: top;\n",
       "    }\n",
       "\n",
       "    .dataframe thead th {\n",
       "        text-align: right;\n",
       "    }\n",
       "</style>\n",
       "<table border=\"1\" class=\"dataframe\">\n",
       "  <thead>\n",
       "    <tr style=\"text-align: right;\">\n",
       "      <th></th>\n",
       "      <th>V</th>\n",
       "      <th>Unnamed: 1</th>\n",
       "      <th>T</th>\n",
       "      <th>R</th>\n",
       "      <th>v</th>\n",
       "      <th>Unnamed: 5</th>\n",
       "      <th>t</th>\n",
       "      <th>r</th>\n",
       "      <th>Unnamed: 8</th>\n",
       "      <th>24</th>\n",
       "      <th>комн темп</th>\n",
       "    </tr>\n",
       "  </thead>\n",
       "  <tbody>\n",
       "    <tr>\n",
       "      <th>0</th>\n",
       "      <td>0.31</td>\n",
       "      <td>7.560976</td>\n",
       "      <td>31.560976</td>\n",
       "      <td>0.1829</td>\n",
       "      <td>0.30</td>\n",
       "      <td>7.317073</td>\n",
       "      <td>31.317073</td>\n",
       "      <td>0.2837</td>\n",
       "      <td>NaN</td>\n",
       "      <td>NaN</td>\n",
       "      <td>NaN</td>\n",
       "    </tr>\n",
       "    <tr>\n",
       "      <th>1</th>\n",
       "      <td>0.40</td>\n",
       "      <td>9.756098</td>\n",
       "      <td>33.756098</td>\n",
       "      <td>0.1836</td>\n",
       "      <td>0.41</td>\n",
       "      <td>10.000000</td>\n",
       "      <td>34.000000</td>\n",
       "      <td>0.2766</td>\n",
       "      <td>NaN</td>\n",
       "      <td>NaN</td>\n",
       "      <td>NaN</td>\n",
       "    </tr>\n",
       "    <tr>\n",
       "      <th>2</th>\n",
       "      <td>0.82</td>\n",
       "      <td>20.000000</td>\n",
       "      <td>44.000000</td>\n",
       "      <td>0.1894</td>\n",
       "      <td>0.80</td>\n",
       "      <td>19.512195</td>\n",
       "      <td>43.512195</td>\n",
       "      <td>0.2308</td>\n",
       "      <td>NaN</td>\n",
       "      <td>NaN</td>\n",
       "      <td>NaN</td>\n",
       "    </tr>\n",
       "    <tr>\n",
       "      <th>3</th>\n",
       "      <td>1.20</td>\n",
       "      <td>29.268293</td>\n",
       "      <td>53.268293</td>\n",
       "      <td>0.1957</td>\n",
       "      <td>1.21</td>\n",
       "      <td>29.512195</td>\n",
       "      <td>53.512195</td>\n",
       "      <td>0.1730</td>\n",
       "      <td>NaN</td>\n",
       "      <td>NaN</td>\n",
       "      <td>NaN</td>\n",
       "    </tr>\n",
       "    <tr>\n",
       "      <th>4</th>\n",
       "      <td>1.62</td>\n",
       "      <td>39.512195</td>\n",
       "      <td>63.512195</td>\n",
       "      <td>0.2025</td>\n",
       "      <td>1.61</td>\n",
       "      <td>39.268293</td>\n",
       "      <td>63.268293</td>\n",
       "      <td>0.1251</td>\n",
       "      <td>NaN</td>\n",
       "      <td>NaN</td>\n",
       "      <td>NaN</td>\n",
       "    </tr>\n",
       "    <tr>\n",
       "      <th>5</th>\n",
       "      <td>2.00</td>\n",
       "      <td>48.780488</td>\n",
       "      <td>72.780488</td>\n",
       "      <td>0.2090</td>\n",
       "      <td>2.03</td>\n",
       "      <td>49.512195</td>\n",
       "      <td>73.512195</td>\n",
       "      <td>0.0820</td>\n",
       "      <td>NaN</td>\n",
       "      <td>NaN</td>\n",
       "      <td>NaN</td>\n",
       "    </tr>\n",
       "    <tr>\n",
       "      <th>6</th>\n",
       "      <td>2.42</td>\n",
       "      <td>59.024390</td>\n",
       "      <td>83.024390</td>\n",
       "      <td>0.2155</td>\n",
       "      <td>2.40</td>\n",
       "      <td>58.536585</td>\n",
       "      <td>82.536585</td>\n",
       "      <td>0.0651</td>\n",
       "      <td>NaN</td>\n",
       "      <td>NaN</td>\n",
       "      <td>NaN</td>\n",
       "    </tr>\n",
       "    <tr>\n",
       "      <th>7</th>\n",
       "      <td>2.80</td>\n",
       "      <td>68.292683</td>\n",
       "      <td>92.292683</td>\n",
       "      <td>0.2217</td>\n",
       "      <td>2.82</td>\n",
       "      <td>68.780488</td>\n",
       "      <td>92.780488</td>\n",
       "      <td>0.0475</td>\n",
       "      <td>NaN</td>\n",
       "      <td>NaN</td>\n",
       "      <td>NaN</td>\n",
       "    </tr>\n",
       "    <tr>\n",
       "      <th>8</th>\n",
       "      <td>3.23</td>\n",
       "      <td>78.780488</td>\n",
       "      <td>102.780488</td>\n",
       "      <td>0.2282</td>\n",
       "      <td>3.20</td>\n",
       "      <td>78.048780</td>\n",
       "      <td>102.048780</td>\n",
       "      <td>0.0360</td>\n",
       "      <td>NaN</td>\n",
       "      <td>NaN</td>\n",
       "      <td>NaN</td>\n",
       "    </tr>\n",
       "    <tr>\n",
       "      <th>9</th>\n",
       "      <td>3.60</td>\n",
       "      <td>87.804878</td>\n",
       "      <td>111.804878</td>\n",
       "      <td>0.2344</td>\n",
       "      <td>3.62</td>\n",
       "      <td>88.292683</td>\n",
       "      <td>112.292683</td>\n",
       "      <td>0.0273</td>\n",
       "      <td>NaN</td>\n",
       "      <td>NaN</td>\n",
       "      <td>NaN</td>\n",
       "    </tr>\n",
       "    <tr>\n",
       "      <th>10</th>\n",
       "      <td>4.06</td>\n",
       "      <td>99.024390</td>\n",
       "      <td>123.024390</td>\n",
       "      <td>0.2413</td>\n",
       "      <td>4.01</td>\n",
       "      <td>97.804878</td>\n",
       "      <td>121.804878</td>\n",
       "      <td>0.0210</td>\n",
       "      <td>NaN</td>\n",
       "      <td>NaN</td>\n",
       "      <td>NaN</td>\n",
       "    </tr>\n",
       "    <tr>\n",
       "      <th>11</th>\n",
       "      <td>4.10</td>\n",
       "      <td>100.000000</td>\n",
       "      <td>124.000000</td>\n",
       "      <td>0.2422</td>\n",
       "      <td>4.10</td>\n",
       "      <td>100.000000</td>\n",
       "      <td>124.000000</td>\n",
       "      <td>0.0200</td>\n",
       "      <td>NaN</td>\n",
       "      <td>NaN</td>\n",
       "      <td>NaN</td>\n",
       "    </tr>\n",
       "  </tbody>\n",
       "</table>\n",
       "</div>"
      ],
      "text/plain": [
       "       V  Unnamed: 1           T       R     v  Unnamed: 5           t  \\\n",
       "0   0.31    7.560976   31.560976  0.1829  0.30    7.317073   31.317073   \n",
       "1   0.40    9.756098   33.756098  0.1836  0.41   10.000000   34.000000   \n",
       "2   0.82   20.000000   44.000000  0.1894  0.80   19.512195   43.512195   \n",
       "3   1.20   29.268293   53.268293  0.1957  1.21   29.512195   53.512195   \n",
       "4   1.62   39.512195   63.512195  0.2025  1.61   39.268293   63.268293   \n",
       "5   2.00   48.780488   72.780488  0.2090  2.03   49.512195   73.512195   \n",
       "6   2.42   59.024390   83.024390  0.2155  2.40   58.536585   82.536585   \n",
       "7   2.80   68.292683   92.292683  0.2217  2.82   68.780488   92.780488   \n",
       "8   3.23   78.780488  102.780488  0.2282  3.20   78.048780  102.048780   \n",
       "9   3.60   87.804878  111.804878  0.2344  3.62   88.292683  112.292683   \n",
       "10  4.06   99.024390  123.024390  0.2413  4.01   97.804878  121.804878   \n",
       "11  4.10  100.000000  124.000000  0.2422  4.10  100.000000  124.000000   \n",
       "\n",
       "         r  Unnamed: 8  24  комн темп  \n",
       "0   0.2837         NaN NaN        NaN  \n",
       "1   0.2766         NaN NaN        NaN  \n",
       "2   0.2308         NaN NaN        NaN  \n",
       "3   0.1730         NaN NaN        NaN  \n",
       "4   0.1251         NaN NaN        NaN  \n",
       "5   0.0820         NaN NaN        NaN  \n",
       "6   0.0651         NaN NaN        NaN  \n",
       "7   0.0475         NaN NaN        NaN  \n",
       "8   0.0360         NaN NaN        NaN  \n",
       "9   0.0273         NaN NaN        NaN  \n",
       "10  0.0210         NaN NaN        NaN  \n",
       "11  0.0200         NaN NaN        NaN  "
      ]
     },
     "execution_count": 5,
     "metadata": {},
     "output_type": "execute_result"
    }
   ],
   "source": [
    "df"
   ]
  },
  {
   "cell_type": "code",
   "execution_count": 18,
   "metadata": {},
   "outputs": [],
   "source": [
    "T_Cu = df['T']\n",
    "T_pp = df['t']\n",
    "R_Cu = df['R'] * 1000\n",
    "R_pp = df['r'] * 1000\n",
    "l = 13.4 #mm\n",
    "d = 0.07 #mm\n",
    "a = 39.2\n",
    "b = 4.1\n",
    "c = 4.1\n",
    "S_Cu = 2 * 3.14 *(d * 10**(-3)/2)**2\n",
    "S_pp = b*c"
   ]
  },
  {
   "cell_type": "code",
   "execution_count": 35,
   "metadata": {},
   "outputs": [
    {
     "data": {
      "text/plain": [
       "7.693000000000001e-09"
      ]
     },
     "execution_count": 35,
     "metadata": {},
     "output_type": "execute_result"
    }
   ],
   "source": [
    "S_Cu"
   ]
  },
  {
   "cell_type": "code",
   "execution_count": 19,
   "metadata": {},
   "outputs": [],
   "source": [
    "sig_Cu = np.ones(12)*l/(np.ones(12)*S_Cu * R_Cu)\n",
    "sig_pp = np.ones(12)*a/(np.ones(12)*S_pp * R_pp)"
   ]
  },
  {
   "cell_type": "code",
   "execution_count": 22,
   "metadata": {},
   "outputs": [
    {
     "data": {
      "text/plain": [
       "Text(0, 0.5, '$\\\\sigma$,1/Ом мм) ')"
      ]
     },
     "execution_count": 22,
     "metadata": {},
     "output_type": "execute_result"
    },
    {
     "data": {
      "image/png": "[encoded data removed]",
      "text/plain": [
       "<Figure size 1080x720 with 1 Axes>"
      ]
     },
     "metadata": {},
     "output_type": "display_data"
    }
   ],
   "source": [
    "plt.rcParams[\"figure.figsize\"] = (15,10)\n",
    "\n",
    "plt.scatter(T_Cu, sig_Cu, marker = '.', color = 'r', label = 'Медь')\n",
    "#plt.scatter(T_pp, sig_pp, marker = '.', color = 'b')\n",
    "x = np.linspace(20, 124, 500)\n",
    "a, b, s, e = chi_sq(T_Cu, sig_Cu, None)\n",
    "y = a * x + b\n",
    "plt.plot(x, y, lw = 0.8, color = 'r')\n",
    "\n",
    "plt.legend()\n",
    "plt.xlabel('T, $^{\\circ}$C')\n",
    "plt.ylabel('$\\sigma$,1/Ом мм) ')"
   ]
  },
  {
   "cell_type": "code",
   "execution_count": 23,
   "metadata": {},
   "outputs": [
    {
     "data": {
      "text/plain": [
       "(-25491.49437754101, 10276060.262321064, 595.4657249778749, 50182.49733409428)"
      ]
     },
     "execution_count": 23,
     "metadata": {},
     "output_type": "execute_result"
    }
   ],
   "source": [
    "a, b, s, e"
   ]
  },
  {
   "cell_type": "code",
   "execution_count": 44,
   "metadata": {},
   "outputs": [],
   "source": [
    "alpha = -a * 7.693000000000001e-09/13.4 *0.1829 * 1000\n",
    "s_alp = alpha*np.sqrt((s/a)**2 + (0.0001/0.1829)**2 + (0.1/13.4)**2 + (2*0.01/0.07)**2)"
   ]
  },
  {
   "cell_type": "code",
   "execution_count": 45,
   "metadata": {},
   "outputs": [
    {
     "data": {
      "text/plain": [
       "(0.0026767014564530425, 0.0007675849442067859)"
      ]
     },
     "execution_count": 45,
     "metadata": {},
     "output_type": "execute_result"
    }
   ],
   "source": [
    "alpha, s_alp"
   ]
  },
  {
   "cell_type": "code",
   "execution_count": 25,
   "metadata": {},
   "outputs": [
    {
     "data": {
      "text/plain": [
       "Text(0, 0.5, '$\\\\sigma$,1/(Ом мм) ')"
      ]
     },
     "execution_count": 25,
     "metadata": {},
     "output_type": "execute_result"
    },
    {
     "data": {
      "image/png": "[encoded data removed]",
      "text/plain": [
       "<Figure size 1080x720 with 1 Axes>"
      ]
     },
     "metadata": {},
     "output_type": "display_data"
    }
   ],
   "source": [
    "#plt.scatter(T_Cu, sig_Cu, marker = '.', color = 'r')\n",
    "plt.scatter(T_pp, sig_pp, marker = '.', color = 'k', label = 'Полупроводник')\n",
    "x_ = np.linspace(30, 124, 500)\n",
    "a_, b_, s_, e_ = chi_sq(T_pp, sig_pp, None)\n",
    "y_ = np.exp(x_)\n",
    "#plt.plot(x_, y_, lw = 0.8, color = 'k')\n",
    "\n",
    "plt.legend()\n",
    "plt.xlabel('T, $^{\\circ}$C')\n",
    "plt.ylabel('$\\sigma$,1/(Ом мм) ')"
   ]
  },
  {
   "cell_type": "code",
   "execution_count": 26,
   "metadata": {},
   "outputs": [
    {
     "data": {
      "text/plain": [
       "Text(0, 0.5, 'ln$\\\\sigma$')"
      ]
     },
     "execution_count": 26,
     "metadata": {},
     "output_type": "execute_result"
    },
    {
     "data": {
      "image/png": "[encoded data removed]",
      "text/plain": [
       "<Figure size 1080x720 with 1 Axes>"
      ]
     },
     "metadata": {},
     "output_type": "display_data"
    }
   ],
   "source": [
    "lsig_pp = np.log(sig_pp)\n",
    "t_pp = 1/(T_pp  + 273)\n",
    "\n",
    "plt.scatter(t_pp, lsig_pp, marker = '.')\n",
    "k = np.linspace(0.0025, 0.0031, 100)\n",
    "aa, bb, ss, ee = chi_sq(t_pp[2::], lsig_pp[2::], None)\n",
    "l = aa * k + bb\n",
    "plt.plot(k, l, lw = 0.8)\n",
    "\n",
    "plt.xlabel('1/T, 1/K')\n",
    "plt.ylabel('ln$\\sigma$')"
   ]
  },
  {
   "cell_type": "code",
   "execution_count": 27,
   "metadata": {},
   "outputs": [
    {
     "data": {
      "text/plain": [
       "(-3890.9987633769797,\n",
       " 6.5656691678249075,\n",
       " 50.39277414048502,\n",
       " 0.14121221077100762)"
      ]
     },
     "execution_count": 27,
     "metadata": {},
     "output_type": "execute_result"
    }
   ],
   "source": [
    "aa, bb, ss, ee"
   ]
  },
  {
   "cell_type": "code",
   "execution_count": 46,
   "metadata": {},
   "outputs": [],
   "source": [
    "Delta = -2 * 8.617*10**(-5) * aa\n",
    "sig_D = Delta * ss/aa"
   ]
  },
  {
   "cell_type": "code",
   "execution_count": 47,
   "metadata": {},
   "outputs": [
    {
     "data": {
      "text/plain": [
       "(0.6705747268803888, -0.008684690695371188)"
      ]
     },
     "execution_count": 47,
     "metadata": {},
     "output_type": "execute_result"
    }
   ],
   "source": [
    "Delta, sig_D #eV Ge"
   ]
  },
  {
   "cell_type": "code",
   "execution_count": 50,
   "metadata": {},
   "outputs": [
    {
     "data": {
      "text/plain": [
       "0.4461011516069677"
      ]
     },
     "execution_count": 50,
     "metadata": {},
     "output_type": "execute_result"
    }
   ],
   "source": [
    "-a*0.0175/1000"
   ]
  },
  {
   "cell_type": "code",
   "execution_count": null,
   "metadata": {},
   "outputs": [],
   "source": []
  }
 ],
 "metadata": {
  "kernelspec": {
   "display_name": "Python 3",
   "language": "python",
   "name": "python3"
  },
  "language_info": {
   "codemirror_mode": {
    "name": "ipython",
    "version": 3
   },
   "file_extension": ".py",
   "mimetype": "text/x-python",
   "name": "python",
   "nbconvert_exporter": "python",
   "pygments_lexer": "ipython3",
   "version": "3.8.5"
  }
 },
 "nbformat": 4,
 "nbformat_minor": 4
}
